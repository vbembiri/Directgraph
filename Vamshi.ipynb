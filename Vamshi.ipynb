{
 "cells": [
  {
   "cell_type": "code",
   "execution_count": 6,
   "metadata": {},
   "outputs": [
    {
     "name": "stdout",
     "output_type": "stream",
     "text": [
      "[[1], [2, 5], [3, 4], [0], [2], [0]]\n",
      "Yes\n",
      "[[1], [2], [3, 6], [4], [5], [6], [2]]\n",
      "No\n"
     ]
    }
   ],
   "source": [
    "from collections import deque\n",
    "\n",
    "## creating bfs function which checks if the node has been visited or not\n",
    "def bfs(nxt, a, visited):\n",
    "    line = deque()\n",
    "    visited[a] = True ## first node as visited\n",
    "    line.append(a)\n",
    "    while (len(line) > 0):\n",
    "        a = line.popleft() ## next node\n",
    "        for i in nxt[a]:\n",
    "            if (visited[i] == False):\n",
    "                visited[i] = True\n",
    "                line.append(i)             \n",
    "    return visited\n",
    "\n",
    "## creating a transpose graph\n",
    "def Trans(nxt, b):\n",
    "    x = [[] for i in range(b)]\n",
    "    for a in range(b):\n",
    "        for i in nxt[a]:\n",
    "            x[i].append(a)\n",
    "    return x\n",
    "## defining edges\n",
    "def edge(nxt, a, w):\n",
    "    nxt[a].append(w)\n",
    "    return nxt\n",
    "\n",
    "## True is graph is strongly connected by this graph\n",
    "def isSC(nxt, b):\n",
    "    visited = [False]*b            ## Step 1\n",
    "    visited = bfs(nxt, 0, visited)  ## Step 2\n",
    "    for i in range(b):   ## First check point\n",
    "        if (visited[i] == False):\n",
    "             return False\n",
    " \n",
    "    nxt = Trans(nxt, b)           ## Step 3\n",
    " \n",
    "    for i in range(b):            ## Step 4\n",
    "        visited[i] = False\n",
    "  \n",
    "    visited = bfs(nxt, 0, visited)   ## Step 5\n",
    " \n",
    "    for i in range(b):               ## Result\n",
    "        if (visited[i] == False):\n",
    "             return False\n",
    " \n",
    "    return True\n",
    " \n",
    "if __name__ == '__main__':\n",
    "     \n",
    "    new = [[] for i in range(6)]\n",
    "    new = edge(new, 0, 1)\n",
    "    new = edge(new, 1, 2)\n",
    "    new = edge(new, 2, 3)\n",
    "    new = edge(new, 3, 0)\n",
    "    new = edge(new, 2, 4)\n",
    "    new = edge(new, 4, 2)    \n",
    "    new = edge(new, 1, 5)\n",
    "    new = edge(new, 5, 0)\n",
    "    print(new)\n",
    "    print(\"Yes\" if isSC(new, 6) else \"No\")\n",
    "    new2 = [[] for i in range(7)]\n",
    "    new2 = edge(new2, 0, 1)\n",
    "    new2 = edge(new2, 1, 2)\n",
    "    new2 = edge(new2, 2, 3)\n",
    "    new2 = edge(new2, 3, 4)\n",
    "    new2 = edge(new2, 4, 5)\n",
    "    new2 = edge(new2, 5, 6)\n",
    "    new2 = edge(new2, 2, 6)\n",
    "    new2 = edge(new2, 6, 2)\n",
    "    print(new2)\n",
    "    print(\"Yes\" if isSC(new2, 7) else \"No\")"
   ]
  },
  {
   "cell_type": "code",
   "execution_count": null,
   "metadata": {},
   "outputs": [],
   "source": []
  }
 ],
 "metadata": {
  "kernelspec": {
   "display_name": "Python 3",
   "language": "python",
   "name": "python3"
  },
  "language_info": {
   "codemirror_mode": {
    "name": "ipython",
    "version": 3
   },
   "file_extension": ".py",
   "mimetype": "text/x-python",
   "name": "python",
   "nbconvert_exporter": "python",
   "pygments_lexer": "ipython3",
   "version": "3.8.5"
  }
 },
 "nbformat": 4,
 "nbformat_minor": 4
}
